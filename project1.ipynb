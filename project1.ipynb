{
  "nbformat": 4,
  "nbformat_minor": 0,
  "metadata": {
    "colab": {
      "provenance": [],
      "authorship_tag": "ABX9TyNH2nblwFFLtgz46wM3ZcL9",
      "include_colab_link": true
    },
    "kernelspec": {
      "name": "python3",
      "display_name": "Python 3"
    },
    "language_info": {
      "name": "python"
    }
  },
  "cells": [
    {
      "cell_type": "markdown",
      "metadata": {
        "id": "view-in-github",
        "colab_type": "text"
      },
      "source": [
        "<a href=\"https://colab.research.google.com/github/vaibhavranaaa/MyRepo/blob/main/project1.ipynb\" target=\"_parent\"><img src=\"https://colab.research.google.com/assets/colab-badge.svg\" alt=\"Open In Colab\"/></a>"
      ]
    },
    {
      "cell_type": "markdown",
      "source": [
        "![Screenshot 2025-08-16 192440.png](data:image/png;base64,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)"
      ],
      "metadata": {
        "id": "syiFTEabKWGN"
      }
    },
    {
      "cell_type": "markdown",
      "source": [
        "1.Import Libaries\n"
      ],
      "metadata": {
        "id": "TZge84Q8yX9K"
      }
    },
    {
      "cell_type": "markdown",
      "source": [],
      "metadata": {
        "id": "oeUB8LAVkKrS"
      }
    },
    {
      "cell_type": "code",
      "execution_count": null,
      "metadata": {
        "id": "mmD7Z7kFHVb5"
      },
      "outputs": [],
      "source": [
        "import pandas as pd\n",
        "import numpy as np\n",
        "import nltk\n",
        "import re\n",
        "from nltk.corpus import stopwords\n",
        "from sklearn.model_selection import train_test_split\n",
        "from sklearn.feature_extraction.text import TfidfVectorizer\n",
        "from sklearn.linear_model import PassiveAggressiveClassifier\n",
        "from sklearn.metrics import accuracy_score, confusion_matrix, classification_report"
      ]
    },
    {
      "cell_type": "code",
      "source": [],
      "metadata": {
        "id": "mhVJgXCskDYC"
      },
      "execution_count": null,
      "outputs": []
    },
    {
      "cell_type": "markdown",
      "source": [],
      "metadata": {
        "id": "AJtI51wukFoU"
      }
    },
    {
      "cell_type": "markdown",
      "source": [
        "### 🔎 Observation:\n",
        "- Successfully imported necessary libraries such as pandas, numpy, sklearn, and matplotlib.\n",
        "- These libraries will help in data loading, preprocessing, model training, and visualization.\n"
      ],
      "metadata": {
        "id": "XIE9gXyAzCE0"
      }
    },
    {
      "cell_type": "markdown",
      "source": [
        "2. Load and Combine the Data"
      ],
      "metadata": {
        "id": "uyFXlaDxIwwT"
      }
    },
    {
      "cell_type": "code",
      "source": [
        "fake = pd.read_csv(\"Fake.csv\")\n",
        "true = pd.read_csv(\"True.csv\")\n",
        "\n",
        "true['label'] = 1  # Real news = 1\n",
        "fake['label'] = 0  # Fake news = 0\n",
        "\n",
        "df = pd.concat([true, fake])\n",
        "df = df.sample(frac=1).reset_index(drop=True)  # Shuffle the data\n",
        "\n",
        "print(df.shape)\n",
        "df.head()\n"
      ],
      "metadata": {
        "colab": {
          "base_uri": "https://localhost:8080/",
          "height": 293
        },
        "id": "avOKT2QXHXqz",
        "outputId": "8a6ae9ed-28c8-468a-947b-409b573c6bef"
      },
      "execution_count": null,
      "outputs": [
        {
          "output_type": "stream",
          "name": "stdout",
          "text": [
            "(44898, 5)\n"
          ]
        },
        {
          "output_type": "execute_result",
          "data": {
            "text/plain": [
              "                                               title  \\\n",
              "0  NEW EMAILS SHOW HILLARY Asking How Meeting On ...   \n",
              "1  POPULAR CHRISTIAN AUTHOR EXPLAINS Why Christia...   \n",
              "2  U.S. Republicans want to slash Obama's securit...   \n",
              "3  Austrian conservative Kurz says needs more tim...   \n",
              "4  Judge seals all video depositions in Clinton e...   \n",
              "\n",
              "                                                text          subject  \\\n",
              "0  These grifters have no shame. How much more ev...  Government News   \n",
              "1  The popular Christian author Eric Metaxas real...         politics   \n",
              "2   (This version of the May 11 story, corrects f...     politicsNews   \n",
              "3  VIENNA (Reuters) - Austrian conservative leade...        worldnews   \n",
              "4  WASHINGTON (Reuters) - A U.S. judge on Thursda...     politicsNews   \n",
              "\n",
              "                date  label  \n",
              "0        Feb 9, 2016      0  \n",
              "1       Oct 15, 2016      0  \n",
              "2      May 11, 2016       1  \n",
              "3  October 23, 2017       1  \n",
              "4      May 26, 2016       1  "
            ],
            "text/html": [
              "\n",
              "  <div id=\"df-db8fda5b-3ccd-43af-bc65-feb571388b18\" class=\"colab-df-container\">\n",
              "    <div>\n",
              "<style scoped>\n",
              "    .dataframe tbody tr th:only-of-type {\n",
              "        vertical-align: middle;\n",
              "    }\n",
              "\n",
              "    .dataframe tbody tr th {\n",
              "        vertical-align: top;\n",
              "    }\n",
              "\n",
              "    .dataframe thead th {\n",
              "        text-align: right;\n",
              "    }\n",
              "</style>\n",
              "<table border=\"1\" class=\"dataframe\">\n",
              "  <thead>\n",
              "    <tr style=\"text-align: right;\">\n",
              "      <th></th>\n",
              "      <th>title</th>\n",
              "      <th>text</th>\n",
              "      <th>subject</th>\n",
              "      <th>date</th>\n",
              "      <th>label</th>\n",
              "    </tr>\n",
              "  </thead>\n",
              "  <tbody>\n",
              "    <tr>\n",
              "      <th>0</th>\n",
              "      <td>NEW EMAILS SHOW HILLARY Asking How Meeting On ...</td>\n",
              "      <td>These grifters have no shame. How much more ev...</td>\n",
              "      <td>Government News</td>\n",
              "      <td>Feb 9, 2016</td>\n",
              "      <td>0</td>\n",
              "    </tr>\n",
              "    <tr>\n",
              "      <th>1</th>\n",
              "      <td>POPULAR CHRISTIAN AUTHOR EXPLAINS Why Christia...</td>\n",
              "      <td>The popular Christian author Eric Metaxas real...</td>\n",
              "      <td>politics</td>\n",
              "      <td>Oct 15, 2016</td>\n",
              "      <td>0</td>\n",
              "    </tr>\n",
              "    <tr>\n",
              "      <th>2</th>\n",
              "      <td>U.S. Republicans want to slash Obama's securit...</td>\n",
              "      <td>(This version of the May 11 story, corrects f...</td>\n",
              "      <td>politicsNews</td>\n",
              "      <td>May 11, 2016</td>\n",
              "      <td>1</td>\n",
              "    </tr>\n",
              "    <tr>\n",
              "      <th>3</th>\n",
              "      <td>Austrian conservative Kurz says needs more tim...</td>\n",
              "      <td>VIENNA (Reuters) - Austrian conservative leade...</td>\n",
              "      <td>worldnews</td>\n",
              "      <td>October 23, 2017</td>\n",
              "      <td>1</td>\n",
              "    </tr>\n",
              "    <tr>\n",
              "      <th>4</th>\n",
              "      <td>Judge seals all video depositions in Clinton e...</td>\n",
              "      <td>WASHINGTON (Reuters) - A U.S. judge on Thursda...</td>\n",
              "      <td>politicsNews</td>\n",
              "      <td>May 26, 2016</td>\n",
              "      <td>1</td>\n",
              "    </tr>\n",
              "  </tbody>\n",
              "</table>\n",
              "</div>\n",
              "    <div class=\"colab-df-buttons\">\n",
              "\n",
              "  <div class=\"colab-df-container\">\n",
              "    <button class=\"colab-df-convert\" onclick=\"convertToInteractive('df-db8fda5b-3ccd-43af-bc65-feb571388b18')\"\n",
              "            title=\"Convert this dataframe to an interactive table.\"\n",
              "            style=\"display:none;\">\n",
              "\n",
              "  <svg xmlns=\"http://www.w3.org/2000/svg\" height=\"24px\" viewBox=\"0 -960 960 960\">\n",
              "    <path d=\"M120-120v-720h720v720H120Zm60-500h600v-160H180v160Zm220 220h160v-160H400v160Zm0 220h160v-160H400v160ZM180-400h160v-160H180v160Zm440 0h160v-160H620v160ZM180-180h160v-160H180v160Zm440 0h160v-160H620v160Z\"/>\n",
              "  </svg>\n",
              "    </button>\n",
              "\n",
              "  <style>\n",
              "    .colab-df-container {\n",
              "      display:flex;\n",
              "      gap: 12px;\n",
              "    }\n",
              "\n",
              "    .colab-df-convert {\n",
              "      background-color: #E8F0FE;\n",
              "      border: none;\n",
              "      border-radius: 50%;\n",
              "      cursor: pointer;\n",
              "      display: none;\n",
              "      fill: #1967D2;\n",
              "      height: 32px;\n",
              "      padding: 0 0 0 0;\n",
              "      width: 32px;\n",
              "    }\n",
              "\n",
              "    .colab-df-convert:hover {\n",
              "      background-color: #E2EBFA;\n",
              "      box-shadow: 0px 1px 2px rgba(60, 64, 67, 0.3), 0px 1px 3px 1px rgba(60, 64, 67, 0.15);\n",
              "      fill: #174EA6;\n",
              "    }\n",
              "\n",
              "    .colab-df-buttons div {\n",
              "      margin-bottom: 4px;\n",
              "    }\n",
              "\n",
              "    [theme=dark] .colab-df-convert {\n",
              "      background-color: #3B4455;\n",
              "      fill: #D2E3FC;\n",
              "    }\n",
              "\n",
              "    [theme=dark] .colab-df-convert:hover {\n",
              "      background-color: #434B5C;\n",
              "      box-shadow: 0px 1px 3px 1px rgba(0, 0, 0, 0.15);\n",
              "      filter: drop-shadow(0px 1px 2px rgba(0, 0, 0, 0.3));\n",
              "      fill: #FFFFFF;\n",
              "    }\n",
              "  </style>\n",
              "\n",
              "    <script>\n",
              "      const buttonEl =\n",
              "        document.querySelector('#df-db8fda5b-3ccd-43af-bc65-feb571388b18 button.colab-df-convert');\n",
              "      buttonEl.style.display =\n",
              "        google.colab.kernel.accessAllowed ? 'block' : 'none';\n",
              "\n",
              "      async function convertToInteractive(key) {\n",
              "        const element = document.querySelector('#df-db8fda5b-3ccd-43af-bc65-feb571388b18');\n",
              "        const dataTable =\n",
              "          await google.colab.kernel.invokeFunction('convertToInteractive',\n",
              "                                                    [key], {});\n",
              "        if (!dataTable) return;\n",
              "\n",
              "        const docLinkHtml = 'Like what you see? Visit the ' +\n",
              "          '<a target=\"_blank\" href=https://colab.research.google.com/notebooks/data_table.ipynb>data table notebook</a>'\n",
              "          + ' to learn more about interactive tables.';\n",
              "        element.innerHTML = '';\n",
              "        dataTable['output_type'] = 'display_data';\n",
              "        await google.colab.output.renderOutput(dataTable, element);\n",
              "        const docLink = document.createElement('div');\n",
              "        docLink.innerHTML = docLinkHtml;\n",
              "        element.appendChild(docLink);\n",
              "      }\n",
              "    </script>\n",
              "  </div>\n",
              "\n",
              "\n",
              "    <div id=\"df-d211782a-a3f0-42e6-8e4d-b10f710429ea\">\n",
              "      <button class=\"colab-df-quickchart\" onclick=\"quickchart('df-d211782a-a3f0-42e6-8e4d-b10f710429ea')\"\n",
              "                title=\"Suggest charts\"\n",
              "                style=\"display:none;\">\n",
              "\n",
              "<svg xmlns=\"http://www.w3.org/2000/svg\" height=\"24px\"viewBox=\"0 0 24 24\"\n",
              "     width=\"24px\">\n",
              "    <g>\n",
              "        <path d=\"M19 3H5c-1.1 0-2 .9-2 2v14c0 1.1.9 2 2 2h14c1.1 0 2-.9 2-2V5c0-1.1-.9-2-2-2zM9 17H7v-7h2v7zm4 0h-2V7h2v10zm4 0h-2v-4h2v4z\"/>\n",
              "    </g>\n",
              "</svg>\n",
              "      </button>\n",
              "\n",
              "<style>\n",
              "  .colab-df-quickchart {\n",
              "      --bg-color: #E8F0FE;\n",
              "      --fill-color: #1967D2;\n",
              "      --hover-bg-color: #E2EBFA;\n",
              "      --hover-fill-color: #174EA6;\n",
              "      --disabled-fill-color: #AAA;\n",
              "      --disabled-bg-color: #DDD;\n",
              "  }\n",
              "\n",
              "  [theme=dark] .colab-df-quickchart {\n",
              "      --bg-color: #3B4455;\n",
              "      --fill-color: #D2E3FC;\n",
              "      --hover-bg-color: #434B5C;\n",
              "      --hover-fill-color: #FFFFFF;\n",
              "      --disabled-bg-color: #3B4455;\n",
              "      --disabled-fill-color: #666;\n",
              "  }\n",
              "\n",
              "  .colab-df-quickchart {\n",
              "    background-color: var(--bg-color);\n",
              "    border: none;\n",
              "    border-radius: 50%;\n",
              "    cursor: pointer;\n",
              "    display: none;\n",
              "    fill: var(--fill-color);\n",
              "    height: 32px;\n",
              "    padding: 0;\n",
              "    width: 32px;\n",
              "  }\n",
              "\n",
              "  .colab-df-quickchart:hover {\n",
              "    background-color: var(--hover-bg-color);\n",
              "    box-shadow: 0 1px 2px rgba(60, 64, 67, 0.3), 0 1px 3px 1px rgba(60, 64, 67, 0.15);\n",
              "    fill: var(--button-hover-fill-color);\n",
              "  }\n",
              "\n",
              "  .colab-df-quickchart-complete:disabled,\n",
              "  .colab-df-quickchart-complete:disabled:hover {\n",
              "    background-color: var(--disabled-bg-color);\n",
              "    fill: var(--disabled-fill-color);\n",
              "    box-shadow: none;\n",
              "  }\n",
              "\n",
              "  .colab-df-spinner {\n",
              "    border: 2px solid var(--fill-color);\n",
              "    border-color: transparent;\n",
              "    border-bottom-color: var(--fill-color);\n",
              "    animation:\n",
              "      spin 1s steps(1) infinite;\n",
              "  }\n",
              "\n",
              "  @keyframes spin {\n",
              "    0% {\n",
              "      border-color: transparent;\n",
              "      border-bottom-color: var(--fill-color);\n",
              "      border-left-color: var(--fill-color);\n",
              "    }\n",
              "    20% {\n",
              "      border-color: transparent;\n",
              "      border-left-color: var(--fill-color);\n",
              "      border-top-color: var(--fill-color);\n",
              "    }\n",
              "    30% {\n",
              "      border-color: transparent;\n",
              "      border-left-color: var(--fill-color);\n",
              "      border-top-color: var(--fill-color);\n",
              "      border-right-color: var(--fill-color);\n",
              "    }\n",
              "    40% {\n",
              "      border-color: transparent;\n",
              "      border-right-color: var(--fill-color);\n",
              "      border-top-color: var(--fill-color);\n",
              "    }\n",
              "    60% {\n",
              "      border-color: transparent;\n",
              "      border-right-color: var(--fill-color);\n",
              "    }\n",
              "    80% {\n",
              "      border-color: transparent;\n",
              "      border-right-color: var(--fill-color);\n",
              "      border-bottom-color: var(--fill-color);\n",
              "    }\n",
              "    90% {\n",
              "      border-color: transparent;\n",
              "      border-bottom-color: var(--fill-color);\n",
              "    }\n",
              "  }\n",
              "</style>\n",
              "\n",
              "      <script>\n",
              "        async function quickchart(key) {\n",
              "          const quickchartButtonEl =\n",
              "            document.querySelector('#' + key + ' button');\n",
              "          quickchartButtonEl.disabled = true;  // To prevent multiple clicks.\n",
              "          quickchartButtonEl.classList.add('colab-df-spinner');\n",
              "          try {\n",
              "            const charts = await google.colab.kernel.invokeFunction(\n",
              "                'suggestCharts', [key], {});\n",
              "          } catch (error) {\n",
              "            console.error('Error during call to suggestCharts:', error);\n",
              "          }\n",
              "          quickchartButtonEl.classList.remove('colab-df-spinner');\n",
              "          quickchartButtonEl.classList.add('colab-df-quickchart-complete');\n",
              "        }\n",
              "        (() => {\n",
              "          let quickchartButtonEl =\n",
              "            document.querySelector('#df-d211782a-a3f0-42e6-8e4d-b10f710429ea button');\n",
              "          quickchartButtonEl.style.display =\n",
              "            google.colab.kernel.accessAllowed ? 'block' : 'none';\n",
              "        })();\n",
              "      </script>\n",
              "    </div>\n",
              "\n",
              "    </div>\n",
              "  </div>\n"
            ],
            "application/vnd.google.colaboratory.intrinsic+json": {
              "type": "dataframe",
              "variable_name": "df",
              "summary": "{\n  \"name\": \"df\",\n  \"rows\": 44898,\n  \"fields\": [\n    {\n      \"column\": \"title\",\n      \"properties\": {\n        \"dtype\": \"string\",\n        \"num_unique_values\": 38729,\n        \"samples\": [\n          \"Syria's Assad discussed peace process with Putin's envoy: RIA\",\n          \"WATCH: PRESIDENT TRUMP RETRIEVES MARINE\\u2019S HAT and Places it Back on His Head After it Blows Off\\u2026 Oorah! [Video]\",\n          \" Democrats Spend Big On This Ad To Expose Trump\\u2019s Cold, Dark Heart (VIDEO)\"\n        ],\n        \"semantic_type\": \"\",\n        \"description\": \"\"\n      }\n    },\n    {\n      \"column\": \"text\",\n      \"properties\": {\n        \"dtype\": \"string\",\n        \"num_unique_values\": 38646,\n        \"samples\": [\n          \"The case of a New York Conservative Party leader and her Muslim tenant has gone viral after people the world over were left stunned by perhaps one of the most horrifying cases of modern-day racism reported in the U.S.Last September, 33-year-old Morrocon-born woman Hasna Jalal moved into the $1,500 a month apartment in the Pompey Avenue building of MaryLou Shanahan, former chair of an NY branch of the Conservative Party. It was to be the beginning of months of racial abuse that would end with Shanahan facing felony charges of grand larceny, being in possession of $425,000 worth of stolen property of Jalal s, and a lawsuit for evicting Jalal because she was Muslim. It is however, the details of the harassment that take our breath away.Images via NY Post/SiliveThe suit alleges that the situation began on Sept 6 2015, when Shanahan overheard Jalal in the hall speaking Arabic to her Moroccan relatives. Shanahan reportedly screamed: I don t need anybody speaking Arabic in my house! The neighbors will think you re from Al Qaeda. From this day on, Shanahan launched a campaign of terror against Jalal. It seemed every time Jalal left her apartment, Shanahan would be there. As they passed, Shanahan would hurl insults such as  nasty Arab , and  slut! Next, Jalal would come home to find offensive notes pinned to her door. One read,  Get the f*ck out of my house. You re a f king nasty Arabic pig. This continued to escalate for nearly one month, before matters reached a horrifying climax.On Oct 4, Jalal returned home to find herself locked out of the apartment. The locks had been changed. She began calling on neighbors to try to establish what happened, and they told her they had seen Shanahan clearing the contents of the apartment with removal men earlier in the day. The landlord had emptied Jala s apartment and locked her out while she had been at work.All-in-all, Shanahan had confiscated $425,000 worth of Jalal s property.Jalal went to the police and Shanahan was arrested later the same day for grand larceny and possession of stolen property. But the conservative wasn t done yet. She took to Facebook to begin harassing Jalal all over again, posting: The police will not touch a sociopath, foreigner,  Moroccan, muslim. Jalal has since filed a lawsuit against Shanahan for evicting her on racial grounds, and the former Conservative Party chair will appear in court on the federal charges on Tuesday.This case comes amid a backdrop of hate crimes against Muslims in New York, which have risen sharply in the last year. Attacks against Muslim Americans and mosques in the state have tripled since the Paris Attacks and San Bernardino shootings. According to The New York Times:The spike includes assaults on hijab-wearing students; arsons and vandalism at mosques; and shootings and death threats at Islamic-owned businessesThese attacks have no doubt been incited by conservatives like Shanahan, who prey on the fear and prejudice of others for their own political ends. The same is playing out on the national stage, with the entire GOP clown car adopting a fundamentally racist, bigoted stance toward non-whites, and non-Christians. The result is the daily oppression and trauma suffered by the likes of Hasna Jalal and others, who simply want to get on and live the American dream.Featured Image via Flickr\",\n          \"SEATTLE/SAN FRANCISCO (Reuters) - A U.S. appeals court on Wednesday wrestled with a bid by President Donald Trump to show that his latest travel ban targeting people from six Muslim-majority countries is legal. The 9th U.S. Circuit Court of Appeals hearing in Seattle came two days after the U.S. Supreme Court allowed Trump\\u2019s travel ban to take effect while litigation over its ultimate validity unfolds.  The ban targets people from Chad, Iran, Libya, Somalia, Syria and Yemen seeking to enter the United States. The Republican president has said the travel ban is needed to protect the United States from terrorism. The state of Hawaii, however, challenged it in court, and a Honolulu federal judge said it exceeded Trump\\u2019s powers under immigration law. Trump\\u2019s ban also covers people from North Korea and certain government officials from Venezuela, but the lower courts had already allowed those provisions to go into effect. The same three judge 9th Circuit panel which limited a previous version of Trump\\u2019s ban heard arguments on Wednesday. Some of the judges appeared more cautious toward the idea of blocking the president\\u2019s policy. Judge Michael Daly Hawkins asked Hawaii\\u2019s lawyers whether Trump\\u2019s latest proclamation is more sound than prior versions. The current one, he said, is based on specific findings that some foreign governments do not share enough information to properly vet immigrants.  \\u201cYou would trust Kim Jong Un to say this person is this person, you gotta let him in?\\u201d Hawkins said. Judge Ronald Gould said the court would issue a ruling \\u201cas soon as practicable.\\u201d Trump issued his first travel ban targeting several Muslim-majority countries in January, which caused chaos at airports and mass protests.  He issued a revised one in March after the first was blocked by federal courts.  That expired in September after a long court fight, and was replaced with the current version.  The ban has some exceptions. Certain people from each targeted country can still apply for a visa for tourism, business or education purposes, and any applicant can ask for an individual waiver. The 4th U.S. Circuit Court of Appeals is set to hear a separate challenge to the ban on Friday, and the U.S. Supreme Court is expected to ultimately decide the issue in the coming months.  \",\n          \"BEIJING (Reuters) - Authorities in China s far western region of Xinjiang have in recent months detained up to 30 relatives of an exiled ethnic Uighur leader, Rebiya Kadeer, rights group Amnesty International said on Tuesday. It was not possible to independently verify the report. Xinjiang, where hundreds have died in recent years in violence between majority Han Chinese and ethnic Uighurs who call Xinjiang home, is under tight security and independent reporting there is difficult. Uighurs are a mostly Muslim people who speak a Turkic language. A Xinjiang government news department official declined to comment, saying she was unaware of the report. China s foreign ministry did not immediately respond to a request for comment. Kadeer is a former political prisoner in China accused of leaking state secrets in 1999. She was later allowed to leave on medical grounds and lives in the United States. She is president of the World Uyghur Congress. Amnesty said that among those detained were Kadeer s sisters, brothers, sons, grandchildren and extended relatives.  Some of her relatives have been detained or jailed previously in Xinjiang. The rights group said in an emailed statement that it was unclear when they were taken away, and that they were  presumed  to be held at a so-called education center and risked torture.  These facilities are known to arbitrarily detain Uighurs and other Muslim minorities for 6-12 months or more,  it said.   Forced to study Chinese laws and policies, many of those detained are targeted because they may have been found praying, owning religious books, have traveled abroad, or have family members living abroad,  it said. The Chinese government routinely denies accusations of rights abuses in Xinjiang, though it has admitted a problem with torture of detainees and has pledged to stop mistreatment of prisoners. Xinjiang, on the borders of Central Asia, Afghanistan and Pakistan, is one of China s most sensitive domestic issues and where China says it faces its own war on radical Islam and militancy.  Rights groups and Uighur exiles say the unrest is more a product of Uighur frustration at Chinese controls on their culture and religion. China denies any repression. \"\n        ],\n        \"semantic_type\": \"\",\n        \"description\": \"\"\n      }\n    },\n    {\n      \"column\": \"subject\",\n      \"properties\": {\n        \"dtype\": \"category\",\n        \"num_unique_values\": 8,\n        \"samples\": [\n          \"politics\",\n          \"News\",\n          \"Government News\"\n        ],\n        \"semantic_type\": \"\",\n        \"description\": \"\"\n      }\n    },\n    {\n      \"column\": \"date\",\n      \"properties\": {\n        \"dtype\": \"category\",\n        \"num_unique_values\": 2397,\n        \"samples\": [\n          \"November 8, 2017 \",\n          \"Oct 20, 2016\",\n          \"December 4, 2016\"\n        ],\n        \"semantic_type\": \"\",\n        \"description\": \"\"\n      }\n    },\n    {\n      \"column\": \"label\",\n      \"properties\": {\n        \"dtype\": \"number\",\n        \"std\": 0,\n        \"min\": 0,\n        \"max\": 1,\n        \"num_unique_values\": 2,\n        \"samples\": [\n          1,\n          0\n        ],\n        \"semantic_type\": \"\",\n        \"description\": \"\"\n      }\n    }\n  ]\n}"
            }
          },
          "metadata": {},
          "execution_count": 6
        }
      ]
    },
    {
      "cell_type": "markdown",
      "source": [
        "### 🔎 Observation:\n",
        "- Dataset loaded successfully from CSV file.\n",
        "- It contains news articles with features like \"title\", \"text\", \"label\".\n",
        "- \"label\" is the target column which specifies whether the news is REAL or FAKE.\n"
      ],
      "metadata": {
        "id": "855C39Q3zF1k"
      }
    },
    {
      "cell_type": "markdown",
      "source": [
        "3.Download Stopwords for Text Cleaning"
      ],
      "metadata": {
        "id": "SUYhJLSmI8Dl"
      }
    },
    {
      "cell_type": "code",
      "source": [
        "nltk.download('stopwords')\n",
        "stop_words = set(stopwords.words('english'))\n"
      ],
      "metadata": {
        "colab": {
          "base_uri": "https://localhost:8080/"
        },
        "id": "sR9JmP2MIA91",
        "outputId": "b5694e9d-9078-463f-cebb-7a321705ae17"
      },
      "execution_count": null,
      "outputs": [
        {
          "output_type": "stream",
          "name": "stderr",
          "text": [
            "[nltk_data] Downloading package stopwords to /root/nltk_data...\n",
            "[nltk_data]   Unzipping corpora/stopwords.zip.\n"
          ]
        }
      ]
    },
    {
      "cell_type": "markdown",
      "source": [
        "### 🔎 Observation:\n",
        "- Downloaded English stopwords using NLTK.\n",
        "- Created a set of stopwords to filter out common, meaningless words.\n",
        "- This step helps keep only the important words (like \"government\", \"fraud\", \"vaccine\") which are useful for fake news detection.\n"
      ],
      "metadata": {
        "id": "kuZJKucCzQyt"
      }
    },
    {
      "cell_type": "markdown",
      "source": [
        "4.Clean the Text"
      ],
      "metadata": {
        "id": "Zy9ij6cLI_6R"
      }
    },
    {
      "cell_type": "code",
      "source": [
        "def clean_text(text):\n",
        "    text = text.lower()  # Lowercase\n",
        "    text = re.sub(r'https?://\\S+|www\\.\\S+', '', text)  # Remove URLs\n",
        "    text = re.sub(r'<.*?>', '', text)  # Remove HTML tags\n",
        "    text = re.sub(r'[^a-z\\s]', '', text)  # Remove numbers and punctuation\n",
        "    text = ' '.join(word for word in text.split() if word not in stop_words)  # Remove stopwords\n",
        "    return text\n",
        "\n",
        "df['text'] = df['title'] + \" \" + df['text']  # Combine title and text\n",
        "df['text'] = df['text'].apply(clean_text)\n"
      ],
      "metadata": {
        "id": "_vbHGl-SIHca"
      },
      "execution_count": null,
      "outputs": []
    },
    {
      "cell_type": "markdown",
      "source": [
        "### 🔎 Observation:\n",
        "- All text is cleaned and standardized.\n",
        "- Converted text to lowercase for consistency.\n",
        "- Removed unwanted parts like URLs, HTML tags, numbers, and punctuation.\n",
        "- Common stopwords (e.g., \"the\", \"is\", \"and\") are removed to keep only meaningful words.\n",
        "- Combined the news title and content into a single column for better context.\n",
        "- Final result: The dataset now contains clean and useful text that can be given to the model.\n"
      ],
      "metadata": {
        "id": "IzEuxQQZzaY5"
      }
    },
    {
      "cell_type": "markdown",
      "source": [
        "5.Split the Data"
      ],
      "metadata": {
        "id": "3lXlCCbBJDmQ"
      }
    },
    {
      "cell_type": "code",
      "source": [
        "X = df['text']\n",
        "y = df['label']\n",
        "\n",
        "X_train, X_test, y_train, y_test = train_test_split(X, y, test_size=0.2, random_state=42)\n"
      ],
      "metadata": {
        "id": "pFvB1sBTINXh"
      },
      "execution_count": null,
      "outputs": []
    },
    {
      "cell_type": "markdown",
      "source": [
        "### 🔎 Observation:\n",
        "- Separated the dataset into features (X = cleaned text) and labels (y = real/fake).\n",
        "- Used `train_test_split` to divide data into training (80%) and testing (20%).\n",
        "- Training set is used to train the model, testing set is used to evaluate accuracy.\n",
        "- Setting `random_state=42` ensures reproducibility of results.\n"
      ],
      "metadata": {
        "id": "lgR9AC1Pzkr5"
      }
    },
    {
      "cell_type": "markdown",
      "source": [
        "6.Vectorize Using TF-IDF"
      ],
      "metadata": {
        "id": "0TZQa0aZJHUW"
      }
    },
    {
      "cell_type": "code",
      "source": [
        "vectorizer = TfidfVectorizer(max_df=0.7)\n",
        "X_train_vec = vectorizer.fit_transform(X_train)\n",
        "X_test_vec = vectorizer.transform(X_test)\n"
      ],
      "metadata": {
        "id": "5nQ67CNMISQE"
      },
      "execution_count": null,
      "outputs": []
    },
    {
      "cell_type": "markdown",
      "source": [
        "### 🔎 Observation:\n",
        "- Converted text data into numerical vectors using TF-IDF (Term Frequency – Inverse Document Frequency).\n",
        "- Rare and meaningful words are given higher importance, while common words are down-weighted.\n",
        "- `max_df=0.7` ensures very frequent/common words are ignored as they don’t help classification.\n",
        "- Training data is fitted and transformed, test data is only transformed (to prevent data leakage).\n",
        "- Now both training and testing sets are represented in a machine-readable numeric format.\n"
      ],
      "metadata": {
        "id": "ricHwadyzqjs"
      }
    },
    {
      "cell_type": "markdown",
      "source": [
        "7.Train the Model"
      ],
      "metadata": {
        "id": "3ZDjEgyvJKwi"
      }
    },
    {
      "cell_type": "code",
      "source": [
        "model = PassiveAggressiveClassifier(max_iter=50)\n",
        "model.fit(X_train_vec, y_train)\n"
      ],
      "metadata": {
        "colab": {
          "base_uri": "https://localhost:8080/",
          "height": 80
        },
        "id": "Am5fyiAuIXta",
        "outputId": "2325e4be-880e-4fee-bd26-fcf72b296282"
      },
      "execution_count": null,
      "outputs": [
        {
          "output_type": "execute_result",
          "data": {
            "text/plain": [
              "PassiveAggressiveClassifier(max_iter=50)"
            ],
            "text/html": [
              "<style>#sk-container-id-1 {\n",
              "  /* Definition of color scheme common for light and dark mode */\n",
              "  --sklearn-color-text: #000;\n",
              "  --sklearn-color-text-muted: #666;\n",
              "  --sklearn-color-line: gray;\n",
              "  /* Definition of color scheme for unfitted estimators */\n",
              "  --sklearn-color-unfitted-level-0: #fff5e6;\n",
              "  --sklearn-color-unfitted-level-1: #f6e4d2;\n",
              "  --sklearn-color-unfitted-level-2: #ffe0b3;\n",
              "  --sklearn-color-unfitted-level-3: chocolate;\n",
              "  /* Definition of color scheme for fitted estimators */\n",
              "  --sklearn-color-fitted-level-0: #f0f8ff;\n",
              "  --sklearn-color-fitted-level-1: #d4ebff;\n",
              "  --sklearn-color-fitted-level-2: #b3dbfd;\n",
              "  --sklearn-color-fitted-level-3: cornflowerblue;\n",
              "\n",
              "  /* Specific color for light theme */\n",
              "  --sklearn-color-text-on-default-background: var(--sg-text-color, var(--theme-code-foreground, var(--jp-content-font-color1, black)));\n",
              "  --sklearn-color-background: var(--sg-background-color, var(--theme-background, var(--jp-layout-color0, white)));\n",
              "  --sklearn-color-border-box: var(--sg-text-color, var(--theme-code-foreground, var(--jp-content-font-color1, black)));\n",
              "  --sklearn-color-icon: #696969;\n",
              "\n",
              "  @media (prefers-color-scheme: dark) {\n",
              "    /* Redefinition of color scheme for dark theme */\n",
              "    --sklearn-color-text-on-default-background: var(--sg-text-color, var(--theme-code-foreground, var(--jp-content-font-color1, white)));\n",
              "    --sklearn-color-background: var(--sg-background-color, var(--theme-background, var(--jp-layout-color0, #111)));\n",
              "    --sklearn-color-border-box: var(--sg-text-color, var(--theme-code-foreground, var(--jp-content-font-color1, white)));\n",
              "    --sklearn-color-icon: #878787;\n",
              "  }\n",
              "}\n",
              "\n",
              "#sk-container-id-1 {\n",
              "  color: var(--sklearn-color-text);\n",
              "}\n",
              "\n",
              "#sk-container-id-1 pre {\n",
              "  padding: 0;\n",
              "}\n",
              "\n",
              "#sk-container-id-1 input.sk-hidden--visually {\n",
              "  border: 0;\n",
              "  clip: rect(1px 1px 1px 1px);\n",
              "  clip: rect(1px, 1px, 1px, 1px);\n",
              "  height: 1px;\n",
              "  margin: -1px;\n",
              "  overflow: hidden;\n",
              "  padding: 0;\n",
              "  position: absolute;\n",
              "  width: 1px;\n",
              "}\n",
              "\n",
              "#sk-container-id-1 div.sk-dashed-wrapped {\n",
              "  border: 1px dashed var(--sklearn-color-line);\n",
              "  margin: 0 0.4em 0.5em 0.4em;\n",
              "  box-sizing: border-box;\n",
              "  padding-bottom: 0.4em;\n",
              "  background-color: var(--sklearn-color-background);\n",
              "}\n",
              "\n",
              "#sk-container-id-1 div.sk-container {\n",
              "  /* jupyter's `normalize.less` sets `[hidden] { display: none; }`\n",
              "     but bootstrap.min.css set `[hidden] { display: none !important; }`\n",
              "     so we also need the `!important` here to be able to override the\n",
              "     default hidden behavior on the sphinx rendered scikit-learn.org.\n",
              "     See: https://github.com/scikit-learn/scikit-learn/issues/21755 */\n",
              "  display: inline-block !important;\n",
              "  position: relative;\n",
              "}\n",
              "\n",
              "#sk-container-id-1 div.sk-text-repr-fallback {\n",
              "  display: none;\n",
              "}\n",
              "\n",
              "div.sk-parallel-item,\n",
              "div.sk-serial,\n",
              "div.sk-item {\n",
              "  /* draw centered vertical line to link estimators */\n",
              "  background-image: linear-gradient(var(--sklearn-color-text-on-default-background), var(--sklearn-color-text-on-default-background));\n",
              "  background-size: 2px 100%;\n",
              "  background-repeat: no-repeat;\n",
              "  background-position: center center;\n",
              "}\n",
              "\n",
              "/* Parallel-specific style estimator block */\n",
              "\n",
              "#sk-container-id-1 div.sk-parallel-item::after {\n",
              "  content: \"\";\n",
              "  width: 100%;\n",
              "  border-bottom: 2px solid var(--sklearn-color-text-on-default-background);\n",
              "  flex-grow: 1;\n",
              "}\n",
              "\n",
              "#sk-container-id-1 div.sk-parallel {\n",
              "  display: flex;\n",
              "  align-items: stretch;\n",
              "  justify-content: center;\n",
              "  background-color: var(--sklearn-color-background);\n",
              "  position: relative;\n",
              "}\n",
              "\n",
              "#sk-container-id-1 div.sk-parallel-item {\n",
              "  display: flex;\n",
              "  flex-direction: column;\n",
              "}\n",
              "\n",
              "#sk-container-id-1 div.sk-parallel-item:first-child::after {\n",
              "  align-self: flex-end;\n",
              "  width: 50%;\n",
              "}\n",
              "\n",
              "#sk-container-id-1 div.sk-parallel-item:last-child::after {\n",
              "  align-self: flex-start;\n",
              "  width: 50%;\n",
              "}\n",
              "\n",
              "#sk-container-id-1 div.sk-parallel-item:only-child::after {\n",
              "  width: 0;\n",
              "}\n",
              "\n",
              "/* Serial-specific style estimator block */\n",
              "\n",
              "#sk-container-id-1 div.sk-serial {\n",
              "  display: flex;\n",
              "  flex-direction: column;\n",
              "  align-items: center;\n",
              "  background-color: var(--sklearn-color-background);\n",
              "  padding-right: 1em;\n",
              "  padding-left: 1em;\n",
              "}\n",
              "\n",
              "\n",
              "/* Toggleable style: style used for estimator/Pipeline/ColumnTransformer box that is\n",
              "clickable and can be expanded/collapsed.\n",
              "- Pipeline and ColumnTransformer use this feature and define the default style\n",
              "- Estimators will overwrite some part of the style using the `sk-estimator` class\n",
              "*/\n",
              "\n",
              "/* Pipeline and ColumnTransformer style (default) */\n",
              "\n",
              "#sk-container-id-1 div.sk-toggleable {\n",
              "  /* Default theme specific background. It is overwritten whether we have a\n",
              "  specific estimator or a Pipeline/ColumnTransformer */\n",
              "  background-color: var(--sklearn-color-background);\n",
              "}\n",
              "\n",
              "/* Toggleable label */\n",
              "#sk-container-id-1 label.sk-toggleable__label {\n",
              "  cursor: pointer;\n",
              "  display: flex;\n",
              "  width: 100%;\n",
              "  margin-bottom: 0;\n",
              "  padding: 0.5em;\n",
              "  box-sizing: border-box;\n",
              "  text-align: center;\n",
              "  align-items: start;\n",
              "  justify-content: space-between;\n",
              "  gap: 0.5em;\n",
              "}\n",
              "\n",
              "#sk-container-id-1 label.sk-toggleable__label .caption {\n",
              "  font-size: 0.6rem;\n",
              "  font-weight: lighter;\n",
              "  color: var(--sklearn-color-text-muted);\n",
              "}\n",
              "\n",
              "#sk-container-id-1 label.sk-toggleable__label-arrow:before {\n",
              "  /* Arrow on the left of the label */\n",
              "  content: \"▸\";\n",
              "  float: left;\n",
              "  margin-right: 0.25em;\n",
              "  color: var(--sklearn-color-icon);\n",
              "}\n",
              "\n",
              "#sk-container-id-1 label.sk-toggleable__label-arrow:hover:before {\n",
              "  color: var(--sklearn-color-text);\n",
              "}\n",
              "\n",
              "/* Toggleable content - dropdown */\n",
              "\n",
              "#sk-container-id-1 div.sk-toggleable__content {\n",
              "  max-height: 0;\n",
              "  max-width: 0;\n",
              "  overflow: hidden;\n",
              "  text-align: left;\n",
              "  /* unfitted */\n",
              "  background-color: var(--sklearn-color-unfitted-level-0);\n",
              "}\n",
              "\n",
              "#sk-container-id-1 div.sk-toggleable__content.fitted {\n",
              "  /* fitted */\n",
              "  background-color: var(--sklearn-color-fitted-level-0);\n",
              "}\n",
              "\n",
              "#sk-container-id-1 div.sk-toggleable__content pre {\n",
              "  margin: 0.2em;\n",
              "  border-radius: 0.25em;\n",
              "  color: var(--sklearn-color-text);\n",
              "  /* unfitted */\n",
              "  background-color: var(--sklearn-color-unfitted-level-0);\n",
              "}\n",
              "\n",
              "#sk-container-id-1 div.sk-toggleable__content.fitted pre {\n",
              "  /* unfitted */\n",
              "  background-color: var(--sklearn-color-fitted-level-0);\n",
              "}\n",
              "\n",
              "#sk-container-id-1 input.sk-toggleable__control:checked~div.sk-toggleable__content {\n",
              "  /* Expand drop-down */\n",
              "  max-height: 200px;\n",
              "  max-width: 100%;\n",
              "  overflow: auto;\n",
              "}\n",
              "\n",
              "#sk-container-id-1 input.sk-toggleable__control:checked~label.sk-toggleable__label-arrow:before {\n",
              "  content: \"▾\";\n",
              "}\n",
              "\n",
              "/* Pipeline/ColumnTransformer-specific style */\n",
              "\n",
              "#sk-container-id-1 div.sk-label input.sk-toggleable__control:checked~label.sk-toggleable__label {\n",
              "  color: var(--sklearn-color-text);\n",
              "  background-color: var(--sklearn-color-unfitted-level-2);\n",
              "}\n",
              "\n",
              "#sk-container-id-1 div.sk-label.fitted input.sk-toggleable__control:checked~label.sk-toggleable__label {\n",
              "  background-color: var(--sklearn-color-fitted-level-2);\n",
              "}\n",
              "\n",
              "/* Estimator-specific style */\n",
              "\n",
              "/* Colorize estimator box */\n",
              "#sk-container-id-1 div.sk-estimator input.sk-toggleable__control:checked~label.sk-toggleable__label {\n",
              "  /* unfitted */\n",
              "  background-color: var(--sklearn-color-unfitted-level-2);\n",
              "}\n",
              "\n",
              "#sk-container-id-1 div.sk-estimator.fitted input.sk-toggleable__control:checked~label.sk-toggleable__label {\n",
              "  /* fitted */\n",
              "  background-color: var(--sklearn-color-fitted-level-2);\n",
              "}\n",
              "\n",
              "#sk-container-id-1 div.sk-label label.sk-toggleable__label,\n",
              "#sk-container-id-1 div.sk-label label {\n",
              "  /* The background is the default theme color */\n",
              "  color: var(--sklearn-color-text-on-default-background);\n",
              "}\n",
              "\n",
              "/* On hover, darken the color of the background */\n",
              "#sk-container-id-1 div.sk-label:hover label.sk-toggleable__label {\n",
              "  color: var(--sklearn-color-text);\n",
              "  background-color: var(--sklearn-color-unfitted-level-2);\n",
              "}\n",
              "\n",
              "/* Label box, darken color on hover, fitted */\n",
              "#sk-container-id-1 div.sk-label.fitted:hover label.sk-toggleable__label.fitted {\n",
              "  color: var(--sklearn-color-text);\n",
              "  background-color: var(--sklearn-color-fitted-level-2);\n",
              "}\n",
              "\n",
              "/* Estimator label */\n",
              "\n",
              "#sk-container-id-1 div.sk-label label {\n",
              "  font-family: monospace;\n",
              "  font-weight: bold;\n",
              "  display: inline-block;\n",
              "  line-height: 1.2em;\n",
              "}\n",
              "\n",
              "#sk-container-id-1 div.sk-label-container {\n",
              "  text-align: center;\n",
              "}\n",
              "\n",
              "/* Estimator-specific */\n",
              "#sk-container-id-1 div.sk-estimator {\n",
              "  font-family: monospace;\n",
              "  border: 1px dotted var(--sklearn-color-border-box);\n",
              "  border-radius: 0.25em;\n",
              "  box-sizing: border-box;\n",
              "  margin-bottom: 0.5em;\n",
              "  /* unfitted */\n",
              "  background-color: var(--sklearn-color-unfitted-level-0);\n",
              "}\n",
              "\n",
              "#sk-container-id-1 div.sk-estimator.fitted {\n",
              "  /* fitted */\n",
              "  background-color: var(--sklearn-color-fitted-level-0);\n",
              "}\n",
              "\n",
              "/* on hover */\n",
              "#sk-container-id-1 div.sk-estimator:hover {\n",
              "  /* unfitted */\n",
              "  background-color: var(--sklearn-color-unfitted-level-2);\n",
              "}\n",
              "\n",
              "#sk-container-id-1 div.sk-estimator.fitted:hover {\n",
              "  /* fitted */\n",
              "  background-color: var(--sklearn-color-fitted-level-2);\n",
              "}\n",
              "\n",
              "/* Specification for estimator info (e.g. \"i\" and \"?\") */\n",
              "\n",
              "/* Common style for \"i\" and \"?\" */\n",
              "\n",
              ".sk-estimator-doc-link,\n",
              "a:link.sk-estimator-doc-link,\n",
              "a:visited.sk-estimator-doc-link {\n",
              "  float: right;\n",
              "  font-size: smaller;\n",
              "  line-height: 1em;\n",
              "  font-family: monospace;\n",
              "  background-color: var(--sklearn-color-background);\n",
              "  border-radius: 1em;\n",
              "  height: 1em;\n",
              "  width: 1em;\n",
              "  text-decoration: none !important;\n",
              "  margin-left: 0.5em;\n",
              "  text-align: center;\n",
              "  /* unfitted */\n",
              "  border: var(--sklearn-color-unfitted-level-1) 1pt solid;\n",
              "  color: var(--sklearn-color-unfitted-level-1);\n",
              "}\n",
              "\n",
              ".sk-estimator-doc-link.fitted,\n",
              "a:link.sk-estimator-doc-link.fitted,\n",
              "a:visited.sk-estimator-doc-link.fitted {\n",
              "  /* fitted */\n",
              "  border: var(--sklearn-color-fitted-level-1) 1pt solid;\n",
              "  color: var(--sklearn-color-fitted-level-1);\n",
              "}\n",
              "\n",
              "/* On hover */\n",
              "div.sk-estimator:hover .sk-estimator-doc-link:hover,\n",
              ".sk-estimator-doc-link:hover,\n",
              "div.sk-label-container:hover .sk-estimator-doc-link:hover,\n",
              ".sk-estimator-doc-link:hover {\n",
              "  /* unfitted */\n",
              "  background-color: var(--sklearn-color-unfitted-level-3);\n",
              "  color: var(--sklearn-color-background);\n",
              "  text-decoration: none;\n",
              "}\n",
              "\n",
              "div.sk-estimator.fitted:hover .sk-estimator-doc-link.fitted:hover,\n",
              ".sk-estimator-doc-link.fitted:hover,\n",
              "div.sk-label-container:hover .sk-estimator-doc-link.fitted:hover,\n",
              ".sk-estimator-doc-link.fitted:hover {\n",
              "  /* fitted */\n",
              "  background-color: var(--sklearn-color-fitted-level-3);\n",
              "  color: var(--sklearn-color-background);\n",
              "  text-decoration: none;\n",
              "}\n",
              "\n",
              "/* Span, style for the box shown on hovering the info icon */\n",
              ".sk-estimator-doc-link span {\n",
              "  display: none;\n",
              "  z-index: 9999;\n",
              "  position: relative;\n",
              "  font-weight: normal;\n",
              "  right: .2ex;\n",
              "  padding: .5ex;\n",
              "  margin: .5ex;\n",
              "  width: min-content;\n",
              "  min-width: 20ex;\n",
              "  max-width: 50ex;\n",
              "  color: var(--sklearn-color-text);\n",
              "  box-shadow: 2pt 2pt 4pt #999;\n",
              "  /* unfitted */\n",
              "  background: var(--sklearn-color-unfitted-level-0);\n",
              "  border: .5pt solid var(--sklearn-color-unfitted-level-3);\n",
              "}\n",
              "\n",
              ".sk-estimator-doc-link.fitted span {\n",
              "  /* fitted */\n",
              "  background: var(--sklearn-color-fitted-level-0);\n",
              "  border: var(--sklearn-color-fitted-level-3);\n",
              "}\n",
              "\n",
              ".sk-estimator-doc-link:hover span {\n",
              "  display: block;\n",
              "}\n",
              "\n",
              "/* \"?\"-specific style due to the `<a>` HTML tag */\n",
              "\n",
              "#sk-container-id-1 a.estimator_doc_link {\n",
              "  float: right;\n",
              "  font-size: 1rem;\n",
              "  line-height: 1em;\n",
              "  font-family: monospace;\n",
              "  background-color: var(--sklearn-color-background);\n",
              "  border-radius: 1rem;\n",
              "  height: 1rem;\n",
              "  width: 1rem;\n",
              "  text-decoration: none;\n",
              "  /* unfitted */\n",
              "  color: var(--sklearn-color-unfitted-level-1);\n",
              "  border: var(--sklearn-color-unfitted-level-1) 1pt solid;\n",
              "}\n",
              "\n",
              "#sk-container-id-1 a.estimator_doc_link.fitted {\n",
              "  /* fitted */\n",
              "  border: var(--sklearn-color-fitted-level-1) 1pt solid;\n",
              "  color: var(--sklearn-color-fitted-level-1);\n",
              "}\n",
              "\n",
              "/* On hover */\n",
              "#sk-container-id-1 a.estimator_doc_link:hover {\n",
              "  /* unfitted */\n",
              "  background-color: var(--sklearn-color-unfitted-level-3);\n",
              "  color: var(--sklearn-color-background);\n",
              "  text-decoration: none;\n",
              "}\n",
              "\n",
              "#sk-container-id-1 a.estimator_doc_link.fitted:hover {\n",
              "  /* fitted */\n",
              "  background-color: var(--sklearn-color-fitted-level-3);\n",
              "}\n",
              "</style><div id=\"sk-container-id-1\" class=\"sk-top-container\"><div class=\"sk-text-repr-fallback\"><pre>PassiveAggressiveClassifier(max_iter=50)</pre><b>In a Jupyter environment, please rerun this cell to show the HTML representation or trust the notebook. <br />On GitHub, the HTML representation is unable to render, please try loading this page with nbviewer.org.</b></div><div class=\"sk-container\" hidden><div class=\"sk-item\"><div class=\"sk-estimator fitted sk-toggleable\"><input class=\"sk-toggleable__control sk-hidden--visually\" id=\"sk-estimator-id-1\" type=\"checkbox\" checked><label for=\"sk-estimator-id-1\" class=\"sk-toggleable__label fitted sk-toggleable__label-arrow\"><div><div>PassiveAggressiveClassifier</div></div><div><a class=\"sk-estimator-doc-link fitted\" rel=\"noreferrer\" target=\"_blank\" href=\"https://scikit-learn.org/1.6/modules/generated/sklearn.linear_model.PassiveAggressiveClassifier.html\">?<span>Documentation for PassiveAggressiveClassifier</span></a><span class=\"sk-estimator-doc-link fitted\">i<span>Fitted</span></span></div></label><div class=\"sk-toggleable__content fitted\"><pre>PassiveAggressiveClassifier(max_iter=50)</pre></div> </div></div></div></div>"
            ]
          },
          "metadata": {},
          "execution_count": 11
        }
      ]
    },
    {
      "cell_type": "markdown",
      "source": [
        "### 🔎 Observation:\n",
        "- Initialized a Passive Aggressive Classifier with 50 iterations.\n",
        "- This model is efficient and works well for large text datasets.\n",
        "- The training step fits the model on the training data, so it learns to distinguish between real and fake news.\n",
        "- The \"passive\" behavior keeps correct predictions unchanged, while \"aggressive\" updates the model quickly on mistakes.\n"
      ],
      "metadata": {
        "id": "UQeoR93nzypX"
      }
    },
    {
      "cell_type": "markdown",
      "source": [
        "8.Evaluate the Model"
      ],
      "metadata": {
        "id": "V9r2lnciJOpq"
      }
    },
    {
      "cell_type": "code",
      "source": [
        "y_pred = model.predict(X_test_vec)\n",
        "\n",
        "print(\"Accuracy:\", accuracy_score(y_test, y_pred))\n",
        "print(\"\\nConfusion Matrix:\\n\", confusion_matrix(y_test, y_pred))\n",
        "print(\"\\nClassification Report:\\n\", classification_report(y_test, y_pred))\n"
      ],
      "metadata": {
        "colab": {
          "base_uri": "https://localhost:8080/"
        },
        "id": "mw0Vo8ImIbv-",
        "outputId": "e45caf6d-0150-4738-abff-ef1f1779e3f8"
      },
      "execution_count": null,
      "outputs": [
        {
          "output_type": "stream",
          "name": "stdout",
          "text": [
            "Accuracy: 0.9962138084632517\n",
            "\n",
            "Confusion Matrix:\n",
            " [[4623   20]\n",
            " [  14 4323]]\n",
            "\n",
            "Classification Report:\n",
            "               precision    recall  f1-score   support\n",
            "\n",
            "           0       1.00      1.00      1.00      4643\n",
            "           1       1.00      1.00      1.00      4337\n",
            "\n",
            "    accuracy                           1.00      8980\n",
            "   macro avg       1.00      1.00      1.00      8980\n",
            "weighted avg       1.00      1.00      1.00      8980\n",
            "\n"
          ]
        }
      ]
    },
    {
      "cell_type": "markdown",
      "source": [
        "### 🔎 Observation:\n",
        "- The model predictions (`y_pred`) are compared with actual labels (`y_test`).\n",
        "- Accuracy score gives the overall correctness of the model.\n",
        "- Confusion matrix shows correct vs incorrect classifications (TP, TN, FP, FN).\n",
        "- Classification report provides precision, recall, F1-score for each class.\n",
        "- These metrics help us understand the model’s performance in detail, beyond just accuracy.\n"
      ],
      "metadata": {
        "id": "1OyFpNkuz4Yy"
      }
    },
    {
      "cell_type": "markdown",
      "source": [
        "9.Trying Custom Input"
      ],
      "metadata": {
        "id": "bA7OLGnnJShd"
      }
    },
    {
      "cell_type": "code",
      "source": [
        "def predict_news(news_text):\n",
        "    cleaned = clean_text(news_text)\n",
        "    vect = vectorizer.transform([cleaned])\n",
        "    prediction = model.predict(vect)[0]\n",
        "    return \"Real News\" if prediction == 1 else \"Fake News\"\n",
        "\n",
        "# Example\n",
        "predict_news(\"PM announces new economic reform package to boost startup ecosystem\")\n"
      ],
      "metadata": {
        "colab": {
          "base_uri": "https://localhost:8080/",
          "height": 36
        },
        "id": "YxY8RzgeIkVP",
        "outputId": "445c4d84-201d-46d5-f4fd-e0a9e8daaeba"
      },
      "execution_count": null,
      "outputs": [
        {
          "output_type": "execute_result",
          "data": {
            "text/plain": [
              "'Fake News'"
            ],
            "application/vnd.google.colaboratory.intrinsic+json": {
              "type": "string"
            }
          },
          "metadata": {},
          "execution_count": 13
        }
      ]
    },
    {
      "cell_type": "markdown",
      "source": [
        "### 🔎 Observation:\n",
        "- A custom function `predict_news()` was created to test any news statement.\n",
        "- It uses the same preprocessing, vectorization, and trained model to give predictions.\n",
        "- The function returns **\"Real News\"** or **\"Fake News\"**.\n",
        "- This makes the project practical and demo-ready, as users can test with their own inputs.\n"
      ],
      "metadata": {
        "id": "wLQVAjIPz_d9"
      }
    },
    {
      "cell_type": "markdown",
      "source": [
        "10.Save Model"
      ],
      "metadata": {
        "id": "K-8p72jrJiO1"
      }
    },
    {
      "cell_type": "code",
      "source": [
        "import joblib\n",
        "\n",
        "joblib.dump(model, 'fake_news_model.pkl')\n",
        "joblib.dump(vectorizer, 'tfidf_vectorizer.pkl')\n"
      ],
      "metadata": {
        "colab": {
          "base_uri": "https://localhost:8080/"
        },
        "id": "sQzS3PQnImoW",
        "outputId": "eb6f70d2-587f-4d00-b512-95ed3ebad8ee"
      },
      "execution_count": null,
      "outputs": [
        {
          "output_type": "execute_result",
          "data": {
            "text/plain": [
              "['tfidf_vectorizer.pkl']"
            ]
          },
          "metadata": {},
          "execution_count": 14
        }
      ]
    },
    {
      "cell_type": "markdown",
      "source": [
        "### 🔎 Observation:\n",
        "- The trained model and vectorizer were saved using `joblib`.\n",
        "- This allows us to reuse the model in the future without retraining.\n",
        "- The saved `.pkl` files (`fake_news_model.pkl` and `tfidf_vectorizer.pkl`) can be loaded later to make predictions on new data.\n",
        "- This makes the system more efficient and deployment-ready.\n"
      ],
      "metadata": {
        "id": "PvEuDT6e0EvA"
      }
    },
    {
      "cell_type": "code",
      "source": [
        "import seaborn as sns\n",
        "import matplotlib.pyplot as plt\n",
        "\n",
        "cm = confusion_matrix(y_test, y_pred)\n",
        "sns.heatmap(cm, annot=True, fmt=\"d\", cmap=\"Blues\")\n",
        "plt.xlabel(\"Predicted\")\n",
        "plt.ylabel(\"Actual\")\n",
        "plt.show()\n"
      ],
      "metadata": {
        "colab": {
          "base_uri": "https://localhost:8080/",
          "height": 449
        },
        "id": "AdE3iFq1K7Qy",
        "outputId": "9d51b7d8-4669-4474-85e0-0e635bfb9aac"
      },
      "execution_count": null,
      "outputs": [
        {
          "output_type": "display_data",
          "data": {
            "text/plain": [
              "<Figure size 640x480 with 2 Axes>"
            ],
            "image/png": "[encoded data removed]"
          },
          "metadata": {}
        }
      ]
    },
    {
      "cell_type": "markdown",
      "source": [
        "🔎 Observation:\n",
        "\n",
        "A heatmap of the confusion matrix was plotted using seaborn.\n",
        "The matrix shows how many Fake and Real news items were correctly classified.\n",
        "\n",
        "Diagonal values (top-left & bottom-right) represent correct predictions.\n",
        "\n",
        "Off-diagonal values represent errors (misclassified news).\n",
        "This visualization gives a clear picture of model performance beyond accuracy."
      ],
      "metadata": {
        "id": "-g8vfxtum-ZT"
      }
    }
  ]
}